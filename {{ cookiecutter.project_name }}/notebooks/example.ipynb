{
 "cells": [
  {
   "cell_type": "code",
   "execution_count": null,
   "metadata": {},
   "outputs": [],
   "source": [
    "%load_ext autoreload\n",
    "%autoreload 2\n",
    "\n",
    "import logging\n",
    "logging.basicConfig(\n",
    "    level=logging.INFO, format=\"%(asctime)s - %(name)s - %(levelname)s - %(message)s\"\n",
    ")\n",
    "logging.getLogger(\"{{ cookiecutter.project_name.lower().replace(' ', '_').replace('-', '_') }}\").setLevel(logging.DEBUG)\n"
   ]
  },
  {
   "cell_type": "code",
   "execution_count": null,
   "metadata": {},
   "outputs": [],
   "source": [
    "## With poetry this part can be skipped =)\n",
    "# import sys\n",
    "# import os\n",
    "# PROJECT_ROOT = os.path.abspath(os.path.join(os.curdir, os.pardir))\n",
    "# sys.path.insert(0, PROJECT_ROOT)\n",
    "\n",
    "from {{ cookiecutter.project_name.lower().replace(' ', '_').replace('-', '_') }}.example import hello"
   ]
  },
  {
   "cell_type": "code",
   "execution_count": null,
   "metadata": {},
   "outputs": [],
   "source": [
    "hello(\"{{ cookiecutter.username }}\")"
   ]
  }
 ],
 "metadata": {
  "language_info": {
   "name": "python"
  }
 },
 "nbformat": 4,
 "nbformat_minor": 2
}
