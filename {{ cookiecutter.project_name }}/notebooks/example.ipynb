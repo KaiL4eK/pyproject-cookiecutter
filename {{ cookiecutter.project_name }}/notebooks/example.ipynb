{
 "cells": [
  {
   "cell_type": "code",
   "execution_count": null,
   "metadata": {},
   "outputs": [],
   "source": [
    "%load_ext autoreload\n",
    "%autoreload 2\n",
    "\n"
   ]
  },
  {
   "cell_type": "code",
   "execution_count": null,
   "metadata": {},
   "outputs": [],
   "source": [
    "## With poetry this part can be skipped =)\n",
    "# import sys\n",
    "# import os\n",
    "# PROJECT_ROOT = os.path.abspath(os.path.join(os.curdir, os.pardir))\n",
    "# sys.path.insert(0, PROJECT_ROOT)\n",
    "\n",
    "from {{ cookiecutter.project_name.lower().replace(' ', '_').replace('-', '_') }}.example import hello"
   ]
  },
  {
   "cell_type": "code",
   "execution_count": null,
   "metadata": {},
   "outputs": [],
   "source": [
    "hello(\"{{ cookiecutter.github_user }}\")"
   ]
  }
 ],
 "metadata": {
  "language_info": {
   "name": "python"
  }
 },
 "nbformat": 4,
 "nbformat_minor": 2
}
